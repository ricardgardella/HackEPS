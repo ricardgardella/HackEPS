{
 "cells": [
  {
   "cell_type": "markdown",
   "metadata": {},
   "source": [
    "# P1 - Predict incomings in 3 weeks"
   ]
  },
  {
   "cell_type": "markdown",
   "metadata": {},
   "source": [
    "## Utils"
   ]
  },
  {
   "cell_type": "markdown",
   "metadata": {},
   "source": [
    "#### Hyperparameters and constants"
   ]
  },
  {
   "cell_type": "code",
   "execution_count": 75,
   "metadata": {},
   "outputs": [],
   "source": [
    "PAST_TIMESTEPS = 12\n",
    "FUTURE_TIMESTEPS = 3\n",
    "FEATURES = 1\n",
    "EPOCHS = 10\n",
    "BATCH_SIZE = 100\n",
    "\n",
    "TRAINSET_FILE = 'dades_train_P1.csv'\n",
    "TESTSET_FILE = 'dades_test.csv'"
   ]
  },
  {
   "cell_type": "markdown",
   "metadata": {},
   "source": [
    "#### Helpers"
   ]
  },
  {
   "cell_type": "code",
   "execution_count": 76,
   "metadata": {},
   "outputs": [],
   "source": [
    "import pandas as pd\n",
    "from datetime import datetime, timedelta\n",
    "\n",
    "def preprocess(DATASET_PATH):\n",
    "    df = pd.read_csv(DATASET_PATH,\n",
    "                     parse_dates=['Dia_Comanda'],\n",
    "                     date_parser=lambda d: datetime.strptime(d, '%Y-%m-%d'))\n",
    "    df = df.drop(df.columns[5:-1], axis=1)\n",
    "    \n",
    "    min_date = df['Dia_Comanda'].min()\n",
    "    df['Setmana'] = df['Dia_Comanda'].map(lambda e: (e.year - min_date.year) * 54 + e.isocalendar()[1])\n",
    "    df = df.groupby(['Client', pd.Grouper(key='Setmana')])\\\n",
    "           .agg({'Preu_Total': 'sum'})\n",
    "    return df"
   ]
  },
  {
   "cell_type": "code",
   "execution_count": 77,
   "metadata": {
    "scrolled": true
   },
   "outputs": [
    {
     "name": "stdout",
     "output_type": "stream",
     "text": [
      "                Preu_Total\n",
      "Client Setmana            \n",
      "70003  84         0.596125\n",
      "       85        19.020566\n",
      "       86        15.110581\n",
      "       87        20.602086\n",
      "       88        19.295976\n",
      "                Preu_Total\n",
      "Client Setmana            \n",
      "70013  84         7.878390\n",
      "       85         1.843815\n",
      "       90         1.999404\n",
      "       91         3.180924\n",
      "       92         4.370194\n"
     ]
    }
   ],
   "source": [
    "df_train = preprocess(TRAINSET_FILE)\n",
    "print(df_train.head())\n",
    "\n",
    "df_test = preprocess(TESTSET_FILE)\n",
    "print(df_test.head())"
   ]
  },
  {
   "cell_type": "markdown",
   "metadata": {},
   "source": [
    "## Preprocessing"
   ]
  },
  {
   "cell_type": "markdown",
   "metadata": {},
   "source": [
    "## Model Training and Fitting"
   ]
  },
  {
   "cell_type": "code",
   "execution_count": 79,
   "metadata": {},
   "outputs": [
    {
     "name": "stdout",
     "output_type": "stream",
     "text": [
      "No NAs in the dataframe\n"
     ]
    },
    {
     "data": {
      "text/html": [
       "<div>\n",
       "<style scoped>\n",
       "    .dataframe tbody tr th:only-of-type {\n",
       "        vertical-align: middle;\n",
       "    }\n",
       "\n",
       "    .dataframe tbody tr th {\n",
       "        vertical-align: top;\n",
       "    }\n",
       "\n",
       "    .dataframe thead th {\n",
       "        text-align: right;\n",
       "    }\n",
       "</style>\n",
       "<table border=\"1\" class=\"dataframe\">\n",
       "  <thead>\n",
       "    <tr style=\"text-align: right;\">\n",
       "      <th></th>\n",
       "      <th></th>\n",
       "      <th>var1(t-12)</th>\n",
       "      <th>var1(t-11)</th>\n",
       "      <th>var1(t-10)</th>\n",
       "      <th>var1(t-9)</th>\n",
       "      <th>var1(t-8)</th>\n",
       "      <th>var1(t-7)</th>\n",
       "      <th>var1(t-6)</th>\n",
       "      <th>var1(t-5)</th>\n",
       "      <th>var1(t-4)</th>\n",
       "      <th>var1(t-3)</th>\n",
       "      <th>var1(t-2)</th>\n",
       "      <th>var1(t-1)</th>\n",
       "      <th>var1(t)</th>\n",
       "    </tr>\n",
       "    <tr>\n",
       "      <th>Client</th>\n",
       "      <th>Setmana</th>\n",
       "      <th></th>\n",
       "      <th></th>\n",
       "      <th></th>\n",
       "      <th></th>\n",
       "      <th></th>\n",
       "      <th></th>\n",
       "      <th></th>\n",
       "      <th></th>\n",
       "      <th></th>\n",
       "      <th></th>\n",
       "      <th></th>\n",
       "      <th></th>\n",
       "      <th></th>\n",
       "    </tr>\n",
       "  </thead>\n",
       "  <tbody>\n",
       "    <tr>\n",
       "      <th rowspan=\"5\" valign=\"top\">70003</th>\n",
       "      <th>97</th>\n",
       "      <td>0.596125</td>\n",
       "      <td>19.020566</td>\n",
       "      <td>15.110581</td>\n",
       "      <td>20.602086</td>\n",
       "      <td>19.295976</td>\n",
       "      <td>10.538301</td>\n",
       "      <td>42.314158</td>\n",
       "      <td>15.570790</td>\n",
       "      <td>17.308495</td>\n",
       "      <td>21.202385</td>\n",
       "      <td>12.100745</td>\n",
       "      <td>22.801788</td>\n",
       "      <td>28.030999</td>\n",
       "    </tr>\n",
       "    <tr>\n",
       "      <th>99</th>\n",
       "      <td>19.020566</td>\n",
       "      <td>15.110581</td>\n",
       "      <td>20.602086</td>\n",
       "      <td>19.295976</td>\n",
       "      <td>10.538301</td>\n",
       "      <td>42.314158</td>\n",
       "      <td>15.570790</td>\n",
       "      <td>17.308495</td>\n",
       "      <td>21.202385</td>\n",
       "      <td>12.100745</td>\n",
       "      <td>22.801788</td>\n",
       "      <td>28.030999</td>\n",
       "      <td>23.496274</td>\n",
       "    </tr>\n",
       "    <tr>\n",
       "      <th>100</th>\n",
       "      <td>15.110581</td>\n",
       "      <td>20.602086</td>\n",
       "      <td>19.295976</td>\n",
       "      <td>10.538301</td>\n",
       "      <td>42.314158</td>\n",
       "      <td>15.570790</td>\n",
       "      <td>17.308495</td>\n",
       "      <td>21.202385</td>\n",
       "      <td>12.100745</td>\n",
       "      <td>22.801788</td>\n",
       "      <td>28.030999</td>\n",
       "      <td>23.496274</td>\n",
       "      <td>21.191654</td>\n",
       "    </tr>\n",
       "    <tr>\n",
       "      <th>101</th>\n",
       "      <td>20.602086</td>\n",
       "      <td>19.295976</td>\n",
       "      <td>10.538301</td>\n",
       "      <td>42.314158</td>\n",
       "      <td>15.570790</td>\n",
       "      <td>17.308495</td>\n",
       "      <td>21.202385</td>\n",
       "      <td>12.100745</td>\n",
       "      <td>22.801788</td>\n",
       "      <td>28.030999</td>\n",
       "      <td>23.496274</td>\n",
       "      <td>21.191654</td>\n",
       "      <td>12.111475</td>\n",
       "    </tr>\n",
       "    <tr>\n",
       "      <th>102</th>\n",
       "      <td>19.295976</td>\n",
       "      <td>10.538301</td>\n",
       "      <td>42.314158</td>\n",
       "      <td>15.570790</td>\n",
       "      <td>17.308495</td>\n",
       "      <td>21.202385</td>\n",
       "      <td>12.100745</td>\n",
       "      <td>22.801788</td>\n",
       "      <td>28.030999</td>\n",
       "      <td>23.496274</td>\n",
       "      <td>21.191654</td>\n",
       "      <td>12.111475</td>\n",
       "      <td>46.026230</td>\n",
       "    </tr>\n",
       "  </tbody>\n",
       "</table>\n",
       "</div>"
      ],
      "text/plain": [
       "                var1(t-12)  var1(t-11)  var1(t-10)  var1(t-9)  var1(t-8)  \\\n",
       "Client Setmana                                                             \n",
       "70003  97         0.596125   19.020566   15.110581  20.602086  19.295976   \n",
       "       99        19.020566   15.110581   20.602086  19.295976  10.538301   \n",
       "       100       15.110581   20.602086   19.295976  10.538301  42.314158   \n",
       "       101       20.602086   19.295976   10.538301  42.314158  15.570790   \n",
       "       102       19.295976   10.538301   42.314158  15.570790  17.308495   \n",
       "\n",
       "                var1(t-7)  var1(t-6)  var1(t-5)  var1(t-4)  var1(t-3)  \\\n",
       "Client Setmana                                                          \n",
       "70003  97       10.538301  42.314158  15.570790  17.308495  21.202385   \n",
       "       99       42.314158  15.570790  17.308495  21.202385  12.100745   \n",
       "       100      15.570790  17.308495  21.202385  12.100745  22.801788   \n",
       "       101      17.308495  21.202385  12.100745  22.801788  28.030999   \n",
       "       102      21.202385  12.100745  22.801788  28.030999  23.496274   \n",
       "\n",
       "                var1(t-2)  var1(t-1)    var1(t)  \n",
       "Client Setmana                                   \n",
       "70003  97       12.100745  22.801788  28.030999  \n",
       "       99       22.801788  28.030999  23.496274  \n",
       "       100      28.030999  23.496274  21.191654  \n",
       "       101      23.496274  21.191654  12.111475  \n",
       "       102      21.191654  12.111475  46.026230  "
      ]
     },
     "execution_count": 79,
     "metadata": {},
     "output_type": "execute_result"
    }
   ],
   "source": [
    "assert(not df_train.isnull().values.any())\n",
    "assert(not df_test.isnull().values.any())\n",
    "print('No NAs in the dataframe')\n",
    "\n",
    "\"\"\"\n",
    "df_train['Customer'] = df_train.index.levels[0]\n",
    "df_train['Data'] = df_train.index.levels[1]\n",
    "\n",
    "\n",
    "df_test['Client'] = df_test.index.levels[0]\n",
    "df_test['Data'] = df_test.index.levels[1]\n",
    "\n",
    "from sklearn.preprocessing import LabelEncoder\n",
    "\n",
    "lenc_client = LabelEncoder()\n",
    "df_train.Client = lenc_client.fit_transform(df_train.Client)\n",
    "df_test.Client = lenc_client.transform(df_test.Client)\n",
    "\n",
    "lenc_client = LabelEncoder()\n",
    "df_train.Data = lenc_client.fit_transform(df_train.Data)\n",
    "df_test.Data = lenc_client.transform(df_test.Data)\n",
    "\"\"\"\n",
    "\n",
    "def series_to_supervised(df, n_in=1, n_out=1, drop_nan=True):\n",
    "    n_vars = df.shape[1]\n",
    "    cols, names = [], []\n",
    "    # Input sequence\n",
    "    for i in range(n_in, 0, -1):\n",
    "        cols.append(df.shift(i))\n",
    "        names += ['var{}(t-{})'.format(j + 1, i) for j in range(n_vars)]\n",
    "    # Output sequence\n",
    "    cols.append(df.shift(0))\n",
    "    names += ['var{}(t)'.format(j + 1) for j in range(n_vars)]\n",
    "    for i in range(1, n_out):\n",
    "        cols.append(df.shift(-i))\n",
    "        names += ['var{}(t+{})'.format(j + 1, i) for j in range(n_vars)]\n",
    "\n",
    "    df = pd.concat(cols, axis=1)\n",
    "    df.columns = names\n",
    "    if drop_nan:\n",
    "        df.dropna(inplace=True)\n",
    "    return df\n",
    "\n",
    "df_train_ts = series_to_supervised(df_train, PAST_TIMESTEPS, 1)\n",
    "df_test_ts = series_to_supervised(df_test, PAST_TIMESTEPS, 1)\n",
    "\n",
    "df_train_ts.head()\n",
    "\n",
    "# df_test.head()"
   ]
  },
  {
   "cell_type": "code",
   "execution_count": 83,
   "metadata": {},
   "outputs": [
    {
     "name": "stdout",
     "output_type": "stream",
     "text": [
      "(30648, 12, 1) (30648,) (30648, 12, 1) (30648,)\n"
     ]
    }
   ],
   "source": [
    "def split_dataset(trainset, testset, TIMESTEPS, FEATURES):\n",
    "    n_obs = TIMESTEPS * FEATURES\n",
    "    \n",
    "    values = trainset.values\n",
    "    x_train = values[:, :n_obs]\n",
    "    y_train = values[:, -1]\n",
    "\n",
    "    values = trainset.values\n",
    "    x_test = values[:, :n_obs]\n",
    "    y_test = values[:, -1]\n",
    "\n",
    "    # Reshape into (samples, timesteps, features)\n",
    "    x_train = x_train.reshape((x_train.shape[0], TIMESTEPS, FEATURES))\n",
    "    x_test = x_test.reshape((x_test.shape[0], TIMESTEPS, FEATURES))\n",
    "    print(x_train.shape, y_train.shape, x_test.shape, y_test.shape)\n",
    "    return x_train, y_train, x_test, y_test\n",
    "\n",
    "x_train, y_train, x_test, y_test = split_dataset(df_train_ts, df_test_ts, PAST_TIMESTEPS, 1)"
   ]
  },
  {
   "cell_type": "markdown",
   "metadata": {},
   "source": [
    "## Training"
   ]
  },
  {
   "cell_type": "code",
   "execution_count": 87,
   "metadata": {},
   "outputs": [],
   "source": [
    "from keras.models import Sequential\n",
    "from keras.layers import LSTM, Dense\n",
    "\n",
    "predictor = Sequential()\n",
    "predictor.add(LSTM(units=50, return_sequences=True, input_shape=(x_train.shape[1], x_train.shape[2])))\n",
    "predictor.add(LSTM(units=50, return_sequences=True))\n",
    "predictor.add(LSTM(units=50))\n",
    "predictor.add(Dense(units=1))\n",
    "predictor.compile(optimizer='adam', loss='mean_squared_error')"
   ]
  },
  {
   "cell_type": "code",
   "execution_count": 97,
   "metadata": {},
   "outputs": [
    {
     "name": "stdout",
     "output_type": "stream",
     "text": [
      "Epoch 1/10\n",
      "30648/30648 [==============================] - 107s 3ms/step - loss: 122.5062\n",
      "Epoch 2/10\n",
      "30648/30648 [==============================] - 105s 3ms/step - loss: 121.4347\n",
      "Epoch 3/10\n",
      "30648/30648 [==============================] - 101s 3ms/step - loss: 120.7700\n",
      "Epoch 4/10\n",
      "30648/30648 [==============================] - 101s 3ms/step - loss: 120.2526\n",
      "Epoch 5/10\n",
      "30648/30648 [==============================] - 107s 3ms/step - loss: 119.3485\n",
      "Epoch 6/10\n",
      "30648/30648 [==============================] - 105s 3ms/step - loss: 119.1150\n",
      "Epoch 7/10\n",
      "30648/30648 [==============================] - 100s 3ms/step - loss: 118.5401\n",
      "Epoch 8/10\n",
      "30648/30648 [==============================] - 98s 3ms/step - loss: 118.3770\n",
      "Epoch 9/10\n",
      "30648/30648 [==============================] - 99s 3ms/step - loss: 117.7463\n",
      "Epoch 10/10\n",
      "30648/30648 [==============================] - ETA: 0s - loss: 118.340 - 98s 3ms/step - loss: 118.1740\n"
     ]
    },
    {
     "data": {
      "text/plain": [
       "10.839673779011587"
      ]
     },
     "execution_count": 97,
     "metadata": {},
     "output_type": "execute_result"
    }
   ],
   "source": [
    "history = predictor.fit(x_train, y_train, epochs=EPOCHS, batch_size=BATCH_SIZE,\n",
    "                        validation_data=(x_test, y_test), verbose=2, shuffle=False)\n",
    "predictions = predictor.predict(x_test)\n",
    "\n",
    "from sklearn.metrics import mean_squared_error\n",
    "from math import sqrt\n",
    "\n",
    "sqrt(mean_squared_error(y_test, predictions))"
   ]
  },
  {
   "cell_type": "markdown",
   "metadata": {},
   "source": [
    "## Evaluation"
   ]
  },
  {
   "cell_type": "code",
   "execution_count": 99,
   "metadata": {
    "scrolled": false
   },
   "outputs": [
    {
     "ename": "NameError",
     "evalue": "name 'sc' is not defined",
     "output_type": "error",
     "traceback": [
      "\u001b[0;31m---------------------------------------------------------------------------\u001b[0m",
      "\u001b[0;31mNameError\u001b[0m                                 Traceback (most recent call last)",
      "\u001b[0;32m<ipython-input-99-eb4c04316896>\u001b[0m in \u001b[0;36m<module>\u001b[0;34m()\u001b[0m\n\u001b[1;32m      6\u001b[0m \u001b[0mb\u001b[0m\u001b[0;34m[\u001b[0m\u001b[0;34m:\u001b[0m\u001b[0;34m,\u001b[0m \u001b[0mdf_train\u001b[0m\u001b[0;34m.\u001b[0m\u001b[0mshape\u001b[0m\u001b[0;34m[\u001b[0m\u001b[0;36m1\u001b[0m\u001b[0;34m]\u001b[0m \u001b[0;34m-\u001b[0m \u001b[0;36m1\u001b[0m\u001b[0;34m]\u001b[0m \u001b[0;34m=\u001b[0m \u001b[0my_test\u001b[0m\u001b[0;34m\u001b[0m\u001b[0m\n\u001b[1;32m      7\u001b[0m \u001b[0;34m\u001b[0m\u001b[0m\n\u001b[0;32m----> 8\u001b[0;31m \u001b[0mpredictions_original\u001b[0m \u001b[0;34m=\u001b[0m \u001b[0msc\u001b[0m\u001b[0;34m.\u001b[0m\u001b[0minverse_transform\u001b[0m\u001b[0;34m(\u001b[0m\u001b[0ma\u001b[0m\u001b[0;34m)\u001b[0m\u001b[0;34m\u001b[0m\u001b[0m\n\u001b[0m\u001b[1;32m      9\u001b[0m \u001b[0mpredictions_original\u001b[0m\u001b[0;34m.\u001b[0m\u001b[0mshape\u001b[0m\u001b[0;34m\u001b[0m\u001b[0m\n\u001b[1;32m     10\u001b[0m \u001b[0my_test_original\u001b[0m \u001b[0;34m=\u001b[0m \u001b[0msc\u001b[0m\u001b[0;34m.\u001b[0m\u001b[0minverse_transform\u001b[0m\u001b[0;34m(\u001b[0m\u001b[0mb\u001b[0m\u001b[0;34m)\u001b[0m\u001b[0;34m\u001b[0m\u001b[0m\n",
      "\u001b[0;31mNameError\u001b[0m: name 'sc' is not defined"
     ]
    }
   ],
   "source": [
    "import numpy as np\n",
    "import matplotlib.pyplot as plt\n",
    "a = np.zeros([30648, df_train.shape[1]])\n",
    "b = np.zeros([30648, df_train.shape[1]])\n",
    "a[:, df_train.shape[1] - 1] = predictions[:, 0]\n",
    "b[:, df_train.shape[1] - 1] = y_test\n",
    "\n",
    "predictions_original = sc.inverse_transform(a)\n",
    "predictions_original.shape\n",
    "y_test_original = sc.inverse_transform(b)\n",
    "print(sqrt(mean_squared_error(y_test_original[:, df_train.shape[1] - 1], predictions_original[:, df_train.shape[1] - 1])))\n",
    "print(y_test_original[:, df_train.shape[1] - 1].mean())\n",
    "\n",
    "predictions_original[:, df_train.shape[1] - 1]"
   ]
  },
  {
   "cell_type": "markdown",
   "metadata": {},
   "source": [
    "#### Evaluate RMSE"
   ]
  },
  {
   "cell_type": "code",
   "execution_count": null,
   "metadata": {},
   "outputs": [],
   "source": [
    "from sklearn.metrics import mean_squared_error\n",
    "from math import sqrt\n",
    "\n",
    "print('RMSE =', sqrt(mean_squared_error(y_test, predictions)))"
   ]
  },
  {
   "cell_type": "markdown",
   "metadata": {},
   "source": [
    "#### Write results into .csv file formatted as <Client, volum>"
   ]
  },
  {
   "cell_type": "code",
   "execution_count": null,
   "metadata": {},
   "outputs": [],
   "source": [
    "df_prediction = pd.DataFrame(columns=['Client', 'volum'])\n",
    "df_prediction.Client = df_test.index\n",
    "df_prediction.volum = predictions_original\n",
    "df_prediction.to_csv('predictions_P1.csv')"
   ]
  }
 ],
 "metadata": {
  "kernelspec": {
   "display_name": "Python 3",
   "language": "python",
   "name": "python3"
  },
  "language_info": {
   "codemirror_mode": {
    "name": "ipython",
    "version": 3
   },
   "file_extension": ".py",
   "mimetype": "text/x-python",
   "name": "python",
   "nbconvert_exporter": "python",
   "pygments_lexer": "ipython3",
   "version": "3.6.5"
  }
 },
 "nbformat": 4,
 "nbformat_minor": 2
}

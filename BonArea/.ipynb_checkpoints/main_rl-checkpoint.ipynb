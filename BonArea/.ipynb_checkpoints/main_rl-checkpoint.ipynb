{
 "cells": [
  {
   "cell_type": "code",
   "execution_count": 2,
   "metadata": {},
   "outputs": [
    {
     "name": "stderr",
     "output_type": "stream",
     "text": [
      "/anaconda3/lib/python3.6/importlib/_bootstrap.py:219: RuntimeWarning: numpy.dtype size changed, may indicate binary incompatibility. Expected 96, got 88\n",
      "  return f(*args, **kwds)\n",
      "/anaconda3/lib/python3.6/site-packages/h5py/__init__.py:36: FutureWarning: Conversion of the second argument of issubdtype from `float` to `np.floating` is deprecated. In future, it will be treated as `np.float64 == np.dtype(float).type`.\n",
      "  from ._conv import register_converters as _register_converters\n",
      "Using TensorFlow backend.\n",
      "/anaconda3/lib/python3.6/importlib/_bootstrap.py:219: RuntimeWarning: numpy.dtype size changed, may indicate binary incompatibility. Expected 96, got 88\n",
      "  return f(*args, **kwds)\n"
     ]
    }
   ],
   "source": [
    "import pandas as pd\n",
    "from datetime import datetime, timedelta\n",
    "from helpers import scale_data, series_to_supervised, split_dataset, build_predictor, fit_predictor\n",
    "\n",
    "def merge(group, weeks):\n",
    "    # this outputs a row of the dataframe\n",
    "    row = {'Client' : group.Client}\n",
    "    sums = group.groupby('week')\n",
    "    for w in range(12):\n",
    "        try:\n",
    "            row['w{}'.format(w)] = sums.get_group(w).Preu_Total.sum()\n",
    "        except KeyError:\n",
    "            row['w{}'.format(w)] = 0\n",
    "            \n",
    "    # row['Tipus_Client'] = group.Tipus_Client\n",
    "    \n",
    "    try:\n",
    "        row['target'] = sums.get_group(14).Preu_Total.sum()\n",
    "    except KeyError:\n",
    "        row['target'] = 0\n",
    "    df = pd.DataFrame(row).iloc[0]\n",
    "    return df\n",
    "\n",
    "def preprocess(DATASET_PATH):\n",
    "    df = pd.read_csv(DATASET_PATH,\n",
    "                     parse_dates=['Dia_Comanda'],\n",
    "                     date_parser=lambda d: datetime.strptime(d, '%Y-%m-%d'))\n",
    "    df = df.drop(['Provincia', 'Linia', 'Pes_mig_G', 'Mesura'], axis=1)\n",
    "    min_date = df['Dia_Comanda'].min()\n",
    "    df['week'] = df['Dia_Comanda'].map(lambda e: (e.year - min_date.year) * 54 + e.isocalendar()[1])\n",
    "    df = df[df['week'] > df['week'].max() - PAST_TIMESTEPS-3]\n",
    "    df['week'] = df['week'].map(lambda x: x - df['week'].min())\n",
    "    df = df.groupby('Client').apply(lambda x: merge(x, PAST_TIMESTEPS))\n",
    "    return df"
   ]
  },
  {
   "cell_type": "code",
   "execution_count": 3,
   "metadata": {
    "scrolled": true
   },
   "outputs": [],
   "source": [
    "TRAINSET_FILE = 'dades_train_P1.csv'\n",
    "TESTSET_FILE = 'dades_test.csv'\n",
    "\n",
    "PAST_TIMESTEPS = 12\n",
    "FUTURE_TIMESTEPS = 3\n",
    "FEATURES = 1\n",
    "EPOCHS = 10\n",
    "BATCH_SIZE = 100\n",
    "\n",
    "\n",
    "df_train = preprocess(TRAINSET_FILE)\n",
    "df_test = preprocess(TESTSET_FILE)\n",
    "\n",
    "df_train = df_train.drop(['Client'], axis=1)\n",
    "df_test = df_test.drop(['Client'], axis=1)"
   ]
  },
  {
   "cell_type": "code",
   "execution_count": 76,
   "metadata": {},
   "outputs": [
    {
     "data": {
      "text/html": [
       "<div>\n",
       "<style scoped>\n",
       "    .dataframe tbody tr th:only-of-type {\n",
       "        vertical-align: middle;\n",
       "    }\n",
       "\n",
       "    .dataframe tbody tr th {\n",
       "        vertical-align: top;\n",
       "    }\n",
       "\n",
       "    .dataframe thead th {\n",
       "        text-align: right;\n",
       "    }\n",
       "</style>\n",
       "<table border=\"1\" class=\"dataframe\">\n",
       "  <thead>\n",
       "    <tr style=\"text-align: right;\">\n",
       "      <th></th>\n",
       "      <th>w0</th>\n",
       "      <th>w1</th>\n",
       "      <th>w2</th>\n",
       "      <th>w3</th>\n",
       "      <th>w4</th>\n",
       "      <th>w5</th>\n",
       "      <th>w6</th>\n",
       "      <th>w7</th>\n",
       "      <th>w8</th>\n",
       "      <th>w9</th>\n",
       "      <th>w10</th>\n",
       "      <th>w11</th>\n",
       "      <th>target</th>\n",
       "    </tr>\n",
       "    <tr>\n",
       "      <th>Client</th>\n",
       "      <th></th>\n",
       "      <th></th>\n",
       "      <th></th>\n",
       "      <th></th>\n",
       "      <th></th>\n",
       "      <th></th>\n",
       "      <th></th>\n",
       "      <th></th>\n",
       "      <th></th>\n",
       "      <th></th>\n",
       "      <th></th>\n",
       "      <th></th>\n",
       "      <th></th>\n",
       "    </tr>\n",
       "  </thead>\n",
       "  <tbody>\n",
       "    <tr>\n",
       "      <th>70003</th>\n",
       "      <td>19.883756</td>\n",
       "      <td>14.476900</td>\n",
       "      <td>46.314754</td>\n",
       "      <td>0.000000</td>\n",
       "      <td>23.169598</td>\n",
       "      <td>33.010432</td>\n",
       "      <td>0.000000</td>\n",
       "      <td>17.350820</td>\n",
       "      <td>12.373174</td>\n",
       "      <td>33.458718</td>\n",
       "      <td>0.000000</td>\n",
       "      <td>10.808346</td>\n",
       "      <td>0.000000</td>\n",
       "    </tr>\n",
       "    <tr>\n",
       "      <th>70005</th>\n",
       "      <td>3.605365</td>\n",
       "      <td>0.990164</td>\n",
       "      <td>5.927869</td>\n",
       "      <td>3.459314</td>\n",
       "      <td>7.666170</td>\n",
       "      <td>3.279285</td>\n",
       "      <td>5.360358</td>\n",
       "      <td>3.748435</td>\n",
       "      <td>8.970492</td>\n",
       "      <td>0.000000</td>\n",
       "      <td>3.093294</td>\n",
       "      <td>5.437854</td>\n",
       "      <td>0.000000</td>\n",
       "    </tr>\n",
       "    <tr>\n",
       "      <th>70006</th>\n",
       "      <td>24.328465</td>\n",
       "      <td>25.707899</td>\n",
       "      <td>12.586587</td>\n",
       "      <td>19.842623</td>\n",
       "      <td>22.737407</td>\n",
       "      <td>17.328167</td>\n",
       "      <td>16.956781</td>\n",
       "      <td>13.892101</td>\n",
       "      <td>22.165127</td>\n",
       "      <td>18.605663</td>\n",
       "      <td>27.532638</td>\n",
       "      <td>21.377645</td>\n",
       "      <td>20.259314</td>\n",
       "    </tr>\n",
       "    <tr>\n",
       "      <th>70007</th>\n",
       "      <td>14.312370</td>\n",
       "      <td>13.769300</td>\n",
       "      <td>16.609836</td>\n",
       "      <td>11.074814</td>\n",
       "      <td>13.281073</td>\n",
       "      <td>14.455440</td>\n",
       "      <td>5.199404</td>\n",
       "      <td>22.252757</td>\n",
       "      <td>3.548137</td>\n",
       "      <td>17.616692</td>\n",
       "      <td>12.603875</td>\n",
       "      <td>16.305812</td>\n",
       "      <td>11.047988</td>\n",
       "    </tr>\n",
       "    <tr>\n",
       "      <th>70043</th>\n",
       "      <td>4.126975</td>\n",
       "      <td>4.252161</td>\n",
       "      <td>3.949925</td>\n",
       "      <td>0.000000</td>\n",
       "      <td>5.335917</td>\n",
       "      <td>4.977645</td>\n",
       "      <td>3.526080</td>\n",
       "      <td>3.606557</td>\n",
       "      <td>0.000000</td>\n",
       "      <td>0.000000</td>\n",
       "      <td>0.000000</td>\n",
       "      <td>14.431595</td>\n",
       "      <td>2.231297</td>\n",
       "    </tr>\n",
       "  </tbody>\n",
       "</table>\n",
       "</div>"
      ],
      "text/plain": [
       "               w0         w1         w2         w3         w4         w5  \\\n",
       "Client                                                                     \n",
       "70003   19.883756  14.476900  46.314754   0.000000  23.169598  33.010432   \n",
       "70005    3.605365   0.990164   5.927869   3.459314   7.666170   3.279285   \n",
       "70006   24.328465  25.707899  12.586587  19.842623  22.737407  17.328167   \n",
       "70007   14.312370  13.769300  16.609836  11.074814  13.281073  14.455440   \n",
       "70043    4.126975   4.252161   3.949925   0.000000   5.335917   4.977645   \n",
       "\n",
       "               w6         w7         w8         w9        w10        w11  \\\n",
       "Client                                                                     \n",
       "70003    0.000000  17.350820  12.373174  33.458718   0.000000  10.808346   \n",
       "70005    5.360358   3.748435   8.970492   0.000000   3.093294   5.437854   \n",
       "70006   16.956781  13.892101  22.165127  18.605663  27.532638  21.377645   \n",
       "70007    5.199404  22.252757   3.548137  17.616692  12.603875  16.305812   \n",
       "70043    3.526080   3.606557   0.000000   0.000000   0.000000  14.431595   \n",
       "\n",
       "           target  \n",
       "Client             \n",
       "70003    0.000000  \n",
       "70005    0.000000  \n",
       "70006   20.259314  \n",
       "70007   11.047988  \n",
       "70043    2.231297  "
      ]
     },
     "execution_count": 76,
     "metadata": {},
     "output_type": "execute_result"
    }
   ],
   "source": [
    "df_train.head()"
   ]
  },
  {
   "cell_type": "code",
   "execution_count": 9,
   "metadata": {},
   "outputs": [
    {
     "data": {
      "text/plain": [
       "LinearRegression(copy_X=True, fit_intercept=True, n_jobs=1, normalize=False)"
      ]
     },
     "execution_count": 9,
     "metadata": {},
     "output_type": "execute_result"
    }
   ],
   "source": [
    "from sklearn import linear_model\n",
    "\n",
    "trainset, sc = scale_data(df_train)\n",
    "testset, _ = scale_data(df_test, sc)\n",
    "\n",
    "x_train = trainset[:, :-1]\n",
    "y_train = trainset[:, -1]\n",
    "\n",
    "x_test = testset[:, :-1]\n",
    "y_test = testset[:, -1]\n",
    "\n",
    "predictor = linear_model.LinearRegression()\n",
    "predictor.fit(x_train, y_train)"
   ]
  },
  {
   "cell_type": "code",
   "execution_count": null,
   "metadata": {},
   "outputs": [],
   "source": []
  },
  {
   "cell_type": "code",
   "execution_count": 10,
   "metadata": {},
   "outputs": [
    {
     "data": {
      "text/plain": [
       "0.0479733852933366"
      ]
     },
     "execution_count": 10,
     "metadata": {},
     "output_type": "execute_result"
    }
   ],
   "source": [
    "predictions = predictor.predict(x_test)\n",
    "\n",
    "from sklearn.metrics import mean_squared_error\n",
    "from math import sqrt\n",
    "\n",
    "sqrt(mean_squared_error(y_test, predictions))"
   ]
  },
  {
   "cell_type": "code",
   "execution_count": null,
   "metadata": {},
   "outputs": [],
   "source": []
  },
  {
   "cell_type": "code",
   "execution_count": 11,
   "metadata": {},
   "outputs": [
    {
     "ename": "IndexError",
     "evalue": "too many indices for array",
     "output_type": "error",
     "traceback": [
      "\u001b[0;31m---------------------------------------------------------------------------\u001b[0m",
      "\u001b[0;31mIndexError\u001b[0m                                Traceback (most recent call last)",
      "\u001b[0;32m<ipython-input-11-588310c7201c>\u001b[0m in \u001b[0;36m<module>\u001b[0;34m()\u001b[0m\n\u001b[1;32m      3\u001b[0m \u001b[0ma\u001b[0m \u001b[0;34m=\u001b[0m \u001b[0mnp\u001b[0m\u001b[0;34m.\u001b[0m\u001b[0mzeros\u001b[0m\u001b[0;34m(\u001b[0m\u001b[0;34m[\u001b[0m\u001b[0;36m389\u001b[0m\u001b[0;34m,\u001b[0m \u001b[0;36m13\u001b[0m\u001b[0;34m]\u001b[0m\u001b[0;34m)\u001b[0m\u001b[0;34m\u001b[0m\u001b[0m\n\u001b[1;32m      4\u001b[0m \u001b[0mb\u001b[0m \u001b[0;34m=\u001b[0m \u001b[0mnp\u001b[0m\u001b[0;34m.\u001b[0m\u001b[0mzeros\u001b[0m\u001b[0;34m(\u001b[0m\u001b[0;34m[\u001b[0m\u001b[0;36m389\u001b[0m\u001b[0;34m,\u001b[0m \u001b[0;36m13\u001b[0m\u001b[0;34m]\u001b[0m\u001b[0;34m)\u001b[0m\u001b[0;34m\u001b[0m\u001b[0m\n\u001b[0;32m----> 5\u001b[0;31m \u001b[0ma\u001b[0m\u001b[0;34m[\u001b[0m\u001b[0;34m:\u001b[0m\u001b[0;34m,\u001b[0m \u001b[0;36m12\u001b[0m\u001b[0;34m]\u001b[0m \u001b[0;34m=\u001b[0m \u001b[0mpredictions\u001b[0m\u001b[0;34m[\u001b[0m\u001b[0;34m:\u001b[0m\u001b[0;34m,\u001b[0m \u001b[0;36m0\u001b[0m\u001b[0;34m]\u001b[0m\u001b[0;34m\u001b[0m\u001b[0m\n\u001b[0m\u001b[1;32m      6\u001b[0m \u001b[0mb\u001b[0m\u001b[0;34m[\u001b[0m\u001b[0;34m:\u001b[0m\u001b[0;34m,\u001b[0m \u001b[0;36m12\u001b[0m\u001b[0;34m]\u001b[0m \u001b[0;34m=\u001b[0m \u001b[0my_test\u001b[0m\u001b[0;34m\u001b[0m\u001b[0m\n\u001b[1;32m      7\u001b[0m \u001b[0;34m\u001b[0m\u001b[0m\n",
      "\u001b[0;31mIndexError\u001b[0m: too many indices for array"
     ]
    }
   ],
   "source": [
    "import numpy as np\n",
    "import matplotlib.pyplot as plt\n",
    "a = np.zeros([389, 13])\n",
    "b = np.zeros([389, 13])\n",
    "a[:, 12] = predictions\n",
    "b[:, 12] = y_test\n",
    "\n",
    "predictions_original = sc.inverse_transform(a)\n",
    "predictions_original.shape\n",
    "y_test_original = sc.inverse_transform(b)\n",
    "print(sqrt(mean_squared_error(y_test_original[:, 12], predictions_original[:, 12])))\n",
    "print(y_test_original[:, 12].mean())\n",
    "\n",
    "predictions_original[:, 12]"
   ]
  },
  {
   "cell_type": "code",
   "execution_count": null,
   "metadata": {},
   "outputs": [],
   "source": []
  }
 ],
 "metadata": {
  "kernelspec": {
   "display_name": "Python 3",
   "language": "python",
   "name": "python3"
  },
  "language_info": {
   "codemirror_mode": {
    "name": "ipython",
    "version": 3
   },
   "file_extension": ".py",
   "mimetype": "text/x-python",
   "name": "python",
   "nbconvert_exporter": "python",
   "pygments_lexer": "ipython3",
   "version": "3.6.5"
  }
 },
 "nbformat": 4,
 "nbformat_minor": 2
}
